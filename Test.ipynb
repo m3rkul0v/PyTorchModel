{
  "nbformat": 4,
  "nbformat_minor": 0,
  "metadata": {
    "colab": {
      "provenance": [],
      "authorship_tag": "ABX9TyNfbEFkaSEAknDXhUqOx178",
      "include_colab_link": true
    },
    "kernelspec": {
      "name": "python3",
      "display_name": "Python 3"
    },
    "language_info": {
      "name": "python"
    }
  },
  "cells": [
    {
      "cell_type": "markdown",
      "metadata": {
        "id": "view-in-github",
        "colab_type": "text"
      },
      "source": [
        "<a href=\"https://colab.research.google.com/github/m3rkul0v/PyTorchModel/blob/main/Test.ipynb\" target=\"_parent\"><img src=\"https://colab.research.google.com/assets/colab-badge.svg\" alt=\"Open In Colab\"/></a>"
      ]
    },
    {
      "cell_type": "code",
      "execution_count": null,
      "metadata": {
        "id": "mmjJR4lpD5qJ"
      },
      "outputs": [],
      "source": [
        "# -*- coding: utf-8 -*-\n",
        "\n",
        "import pandas as pd\n",
        "import numpy as np\n",
        "import seaborn as sns\n",
        "import matplotlib.pyplot as plt\n"
      ]
    },
    {
      "cell_type": "code",
      "source": [
        "'''\n",
        "Откроем наш csv-файл и загрузим данные в датафрейм, используя в качестве разделителя \" ; \"\n",
        "'''\n",
        "df = pd.read_csv('meatinfo.csv', sep = ';')\n",
        "df"
      ],
      "metadata": {
        "colab": {
          "base_uri": "https://localhost:8080/",
          "height": 419
        },
        "id": "F8x88HZGTD2V",
        "outputId": "3ea2319b-55a4-4f90-a334-d97fe6c71a66"
      },
      "execution_count": null,
      "outputs": [
        {
          "output_type": "execute_result",
          "data": {
            "text/plain": [
              "                                                    text     mtype\n",
              "0                 12 частей баранина  12 частей баранина  Баранина\n",
              "1                Баранина, 12 частей, зам. цена 260 руб.  Баранина\n",
              "2                Баранина, 12 частей, зам. цена 315 руб.  Баранина\n",
              "3                              Баранина, 12 частей, охл.  Баранина\n",
              "4                Баранина, 12 частей, охл. цена 220 руб.  Баранина\n",
              "...                                                  ...       ...\n",
              "17888                                  Ягнятина, шея, бк  Ягнятина\n",
              "17889  Язык ягненка (н.зеландия) Отварные языки ягнят...  Ягнятина\n",
              "17890               Ягнятина, язык, зачищ. цена 100 руб.  Ягнятина\n",
              "17891        Як, задние части, 1 категория цена 550 руб.        Як\n",
              "17892                Як, туши, 1 категория цена 150 руб.        Як\n",
              "\n",
              "[17893 rows x 2 columns]"
            ],
            "text/html": [
              "\n",
              "  <div id=\"df-f3b7d152-f6ad-4522-8f80-1359744dc3bd\">\n",
              "    <div class=\"colab-df-container\">\n",
              "      <div>\n",
              "<style scoped>\n",
              "    .dataframe tbody tr th:only-of-type {\n",
              "        vertical-align: middle;\n",
              "    }\n",
              "\n",
              "    .dataframe tbody tr th {\n",
              "        vertical-align: top;\n",
              "    }\n",
              "\n",
              "    .dataframe thead th {\n",
              "        text-align: right;\n",
              "    }\n",
              "</style>\n",
              "<table border=\"1\" class=\"dataframe\">\n",
              "  <thead>\n",
              "    <tr style=\"text-align: right;\">\n",
              "      <th></th>\n",
              "      <th>text</th>\n",
              "      <th>mtype</th>\n",
              "    </tr>\n",
              "  </thead>\n",
              "  <tbody>\n",
              "    <tr>\n",
              "      <th>0</th>\n",
              "      <td>12 частей баранина  12 частей баранина</td>\n",
              "      <td>Баранина</td>\n",
              "    </tr>\n",
              "    <tr>\n",
              "      <th>1</th>\n",
              "      <td>Баранина, 12 частей, зам. цена 260 руб.</td>\n",
              "      <td>Баранина</td>\n",
              "    </tr>\n",
              "    <tr>\n",
              "      <th>2</th>\n",
              "      <td>Баранина, 12 частей, зам. цена 315 руб.</td>\n",
              "      <td>Баранина</td>\n",
              "    </tr>\n",
              "    <tr>\n",
              "      <th>3</th>\n",
              "      <td>Баранина, 12 частей, охл.</td>\n",
              "      <td>Баранина</td>\n",
              "    </tr>\n",
              "    <tr>\n",
              "      <th>4</th>\n",
              "      <td>Баранина, 12 частей, охл. цена 220 руб.</td>\n",
              "      <td>Баранина</td>\n",
              "    </tr>\n",
              "    <tr>\n",
              "      <th>...</th>\n",
              "      <td>...</td>\n",
              "      <td>...</td>\n",
              "    </tr>\n",
              "    <tr>\n",
              "      <th>17888</th>\n",
              "      <td>Ягнятина, шея, бк</td>\n",
              "      <td>Ягнятина</td>\n",
              "    </tr>\n",
              "    <tr>\n",
              "      <th>17889</th>\n",
              "      <td>Язык ягненка (н.зеландия) Отварные языки ягнят...</td>\n",
              "      <td>Ягнятина</td>\n",
              "    </tr>\n",
              "    <tr>\n",
              "      <th>17890</th>\n",
              "      <td>Ягнятина, язык, зачищ. цена 100 руб.</td>\n",
              "      <td>Ягнятина</td>\n",
              "    </tr>\n",
              "    <tr>\n",
              "      <th>17891</th>\n",
              "      <td>Як, задние части, 1 категория цена 550 руб.</td>\n",
              "      <td>Як</td>\n",
              "    </tr>\n",
              "    <tr>\n",
              "      <th>17892</th>\n",
              "      <td>Як, туши, 1 категория цена 150 руб.</td>\n",
              "      <td>Як</td>\n",
              "    </tr>\n",
              "  </tbody>\n",
              "</table>\n",
              "<p>17893 rows × 2 columns</p>\n",
              "</div>\n",
              "      <button class=\"colab-df-convert\" onclick=\"convertToInteractive('df-f3b7d152-f6ad-4522-8f80-1359744dc3bd')\"\n",
              "              title=\"Convert this dataframe to an interactive table.\"\n",
              "              style=\"display:none;\">\n",
              "        \n",
              "  <svg xmlns=\"http://www.w3.org/2000/svg\" height=\"24px\"viewBox=\"0 0 24 24\"\n",
              "       width=\"24px\">\n",
              "    <path d=\"M0 0h24v24H0V0z\" fill=\"none\"/>\n",
              "    <path d=\"M18.56 5.44l.94 2.06.94-2.06 2.06-.94-2.06-.94-.94-2.06-.94 2.06-2.06.94zm-11 1L8.5 8.5l.94-2.06 2.06-.94-2.06-.94L8.5 2.5l-.94 2.06-2.06.94zm10 10l.94 2.06.94-2.06 2.06-.94-2.06-.94-.94-2.06-.94 2.06-2.06.94z\"/><path d=\"M17.41 7.96l-1.37-1.37c-.4-.4-.92-.59-1.43-.59-.52 0-1.04.2-1.43.59L10.3 9.45l-7.72 7.72c-.78.78-.78 2.05 0 2.83L4 21.41c.39.39.9.59 1.41.59.51 0 1.02-.2 1.41-.59l7.78-7.78 2.81-2.81c.8-.78.8-2.07 0-2.86zM5.41 20L4 18.59l7.72-7.72 1.47 1.35L5.41 20z\"/>\n",
              "  </svg>\n",
              "      </button>\n",
              "      \n",
              "  <style>\n",
              "    .colab-df-container {\n",
              "      display:flex;\n",
              "      flex-wrap:wrap;\n",
              "      gap: 12px;\n",
              "    }\n",
              "\n",
              "    .colab-df-convert {\n",
              "      background-color: #E8F0FE;\n",
              "      border: none;\n",
              "      border-radius: 50%;\n",
              "      cursor: pointer;\n",
              "      display: none;\n",
              "      fill: #1967D2;\n",
              "      height: 32px;\n",
              "      padding: 0 0 0 0;\n",
              "      width: 32px;\n",
              "    }\n",
              "\n",
              "    .colab-df-convert:hover {\n",
              "      background-color: #E2EBFA;\n",
              "      box-shadow: 0px 1px 2px rgba(60, 64, 67, 0.3), 0px 1px 3px 1px rgba(60, 64, 67, 0.15);\n",
              "      fill: #174EA6;\n",
              "    }\n",
              "\n",
              "    [theme=dark] .colab-df-convert {\n",
              "      background-color: #3B4455;\n",
              "      fill: #D2E3FC;\n",
              "    }\n",
              "\n",
              "    [theme=dark] .colab-df-convert:hover {\n",
              "      background-color: #434B5C;\n",
              "      box-shadow: 0px 1px 3px 1px rgba(0, 0, 0, 0.15);\n",
              "      filter: drop-shadow(0px 1px 2px rgba(0, 0, 0, 0.3));\n",
              "      fill: #FFFFFF;\n",
              "    }\n",
              "  </style>\n",
              "\n",
              "      <script>\n",
              "        const buttonEl =\n",
              "          document.querySelector('#df-f3b7d152-f6ad-4522-8f80-1359744dc3bd button.colab-df-convert');\n",
              "        buttonEl.style.display =\n",
              "          google.colab.kernel.accessAllowed ? 'block' : 'none';\n",
              "\n",
              "        async function convertToInteractive(key) {\n",
              "          const element = document.querySelector('#df-f3b7d152-f6ad-4522-8f80-1359744dc3bd');\n",
              "          const dataTable =\n",
              "            await google.colab.kernel.invokeFunction('convertToInteractive',\n",
              "                                                     [key], {});\n",
              "          if (!dataTable) return;\n",
              "\n",
              "          const docLinkHtml = 'Like what you see? Visit the ' +\n",
              "            '<a target=\"_blank\" href=https://colab.research.google.com/notebooks/data_table.ipynb>data table notebook</a>'\n",
              "            + ' to learn more about interactive tables.';\n",
              "          element.innerHTML = '';\n",
              "          dataTable['output_type'] = 'display_data';\n",
              "          await google.colab.output.renderOutput(dataTable, element);\n",
              "          const docLink = document.createElement('div');\n",
              "          docLink.innerHTML = docLinkHtml;\n",
              "          element.appendChild(docLink);\n",
              "        }\n",
              "      </script>\n",
              "    </div>\n",
              "  </div>\n",
              "  "
            ]
          },
          "metadata": {},
          "execution_count": 3
        }
      ]
    },
    {
      "cell_type": "code",
      "source": [
        "'''\n",
        "Выберем только те данные, которые требуются по ТЗ -\n",
        "брать только виды продукции, для которых в датасете есть не менее 500 примеров\n",
        "'''\n",
        "s = df['mtype']\n",
        "a = list(df['mtype'].value_counts().index[df['mtype'].value_counts() >= 500])\n",
        "print(*a)\n"
      ],
      "metadata": {
        "colab": {
          "base_uri": "https://localhost:8080/"
        },
        "id": "_oMjblcxHK68",
        "outputId": "2fcf92a0-34c1-40ef-b32d-f17089a182c6"
      },
      "execution_count": null,
      "outputs": [
        {
          "output_type": "stream",
          "name": "stdout",
          "text": [
            "Говядина Свинина Кура Индейка Баранина Цыпленок\n"
          ]
        }
      ]
    },
    {
      "cell_type": "code",
      "source": [
        "df_clean = df[(df['mtype']=='Говядина') | (df['mtype']=='Свинина') | (df['mtype']=='Кура') | (df['mtype']=='Индейка') | (df['mtype']=='Баранина') | (df['mtype']=='Цыпленок')]"
      ],
      "metadata": {
        "id": "iWTIA-9YPdiM"
      },
      "execution_count": null,
      "outputs": []
    },
    {
      "cell_type": "code",
      "source": [
        "sns.countplot(x = 'mtype', data=df_clean)"
      ],
      "metadata": {
        "colab": {
          "base_uri": "https://localhost:8080/",
          "height": 466
        },
        "id": "CZQ3AaZzTXWi",
        "outputId": "e2e98050-19b3-4314-ffd6-453e56f485a4"
      },
      "execution_count": null,
      "outputs": [
        {
          "output_type": "execute_result",
          "data": {
            "text/plain": [
              "<Axes: xlabel='mtype', ylabel='count'>"
            ]
          },
          "metadata": {},
          "execution_count": 6
        },
        {
          "output_type": "display_data",
          "data": {
            "text/plain": [
              "<Figure size 640x480 with 1 Axes>"
            ],
            "image/png": "[encoded data removed]"
          },
          "metadata": {}
        }
      ]
    },
    {
      "cell_type": "code",
      "source": [
        "import torch\n",
        "import torch.nn as nn\n",
        "import torch.optim as optim\n",
        "from torch.utils.data import DataLoader, Dataset\n",
        "from sklearn.model_selection import train_test_split\n",
        "from sklearn.feature_extraction.text import CountVectorizer\n",
        "from nltk.tokenize import word_tokenize\n",
        "import nltk\n",
        "nltk.download('punkt')"
      ],
      "metadata": {
        "colab": {
          "base_uri": "https://localhost:8080/"
        },
        "id": "6Lf4bwWeg5gm",
        "outputId": "6ab43a63-ef19-4ca4-8822-dfaeb7c44680"
      },
      "execution_count": null,
      "outputs": [
        {
          "output_type": "stream",
          "name": "stderr",
          "text": [
            "[nltk_data] Downloading package punkt to /root/nltk_data...\n",
            "[nltk_data]   Unzipping tokenizers/punkt.zip.\n"
          ]
        },
        {
          "output_type": "execute_result",
          "data": {
            "text/plain": [
              "True"
            ]
          },
          "metadata": {},
          "execution_count": 7
        }
      ]
    },
    {
      "cell_type": "code",
      "source": [
        "unique_mtype = df_clean['mtype'].unique()\n",
        "mtype_dict = {mtype: i for i, mtype in enumerate(unique_mtype)}\n",
        "print(mtype_dict)\n",
        "df_clean['mtype'] = df_clean['mtype'].replace(mtype_dict)"
      ],
      "metadata": {
        "colab": {
          "base_uri": "https://localhost:8080/"
        },
        "id": "FJYROOS2r0Sc",
        "outputId": "f9a31592-7a4c-4489-ff68-524aacd9167c"
      },
      "execution_count": null,
      "outputs": [
        {
          "output_type": "stream",
          "name": "stdout",
          "text": [
            "{'Баранина': 0, 'Индейка': 1, 'Говядина': 2, 'Свинина': 3, 'Кура': 4, 'Цыпленок': 5}\n"
          ]
        },
        {
          "output_type": "stream",
          "name": "stderr",
          "text": [
            "<ipython-input-8-9d9f2050f42f>:4: SettingWithCopyWarning: \n",
            "A value is trying to be set on a copy of a slice from a DataFrame.\n",
            "Try using .loc[row_indexer,col_indexer] = value instead\n",
            "\n",
            "See the caveats in the documentation: https://pandas.pydata.org/pandas-docs/stable/user_guide/indexing.html#returning-a-view-versus-a-copy\n",
            "  df_clean['mtype'] = df_clean['mtype'].replace(mtype_dict)\n"
          ]
        }
      ]
    },
    {
      "cell_type": "code",
      "source": [
        "print(df_clean['mtype'][1])"
      ],
      "metadata": {
        "colab": {
          "base_uri": "https://localhost:8080/"
        },
        "id": "r-DXG-N9r4ir",
        "outputId": "35ca4e53-7c65-40c3-954b-77b59c92ebb2"
      },
      "execution_count": null,
      "outputs": [
        {
          "output_type": "stream",
          "name": "stdout",
          "text": [
            "0\n"
          ]
        }
      ]
    },
    {
      "cell_type": "code",
      "source": [
        "text = df_clean['text'].tolist()\n",
        "mtype = df_clean['mtype'].tolist()"
      ],
      "metadata": {
        "id": "daNvgzvShBvm"
      },
      "execution_count": null,
      "outputs": []
    },
    {
      "cell_type": "code",
      "source": [
        "import re\n",
        "for i in range(len(text)):\n",
        "  text[i] = re.sub(r'[^\\w\\s]', '', text[i])\n",
        "\n",
        "print(text[1])"
      ],
      "metadata": {
        "colab": {
          "base_uri": "https://localhost:8080/"
        },
        "id": "FoOW4xGdj3xZ",
        "outputId": "3e963cb4-c16a-4395-82f3-855f40c563aa"
      },
      "execution_count": null,
      "outputs": [
        {
          "output_type": "stream",
          "name": "stdout",
          "text": [
            "Баранина 12 частей зам цена 260 руб\n"
          ]
        }
      ]
    },
    {
      "cell_type": "code",
      "source": [
        "tokenized_text = [word_tokenize(t) for t in text]\n",
        "\n"
      ],
      "metadata": {
        "id": "N_nQMB1jjBgo"
      },
      "execution_count": null,
      "outputs": []
    },
    {
      "cell_type": "code",
      "source": [
        "vectorizer = CountVectorizer()\n",
        "X = vectorizer.fit_transform([' '.join(tokens) for tokens in tokenized_text])"
      ],
      "metadata": {
        "id": "VsE5UPvDmlK7"
      },
      "execution_count": null,
      "outputs": []
    },
    {
      "cell_type": "code",
      "source": [
        "X_train, X_test, y_train, y_test = train_test_split(X, mtype, test_size=0.2, random_state=42)"
      ],
      "metadata": {
        "id": "HVbE-1wem5pm"
      },
      "execution_count": null,
      "outputs": []
    },
    {
      "cell_type": "code",
      "source": [
        "class TextDataset(Dataset):\n",
        "    def __init__(self, X, y):\n",
        "        self.X = X\n",
        "        self.y = y\n",
        "\n",
        "    def __len__(self):\n",
        "        return len(self.X)\n",
        "\n",
        "    def __getitem__(self, idx):\n",
        "        return self.X[idx], self.y[idx]\n"
      ],
      "metadata": {
        "id": "A5T4bZxTm9NN"
      },
      "execution_count": null,
      "outputs": []
    },
    {
      "cell_type": "code",
      "source": [
        "train_dataset = TextDataset(X_train.toarray(), y_train)\n",
        "test_dataset = TextDataset(X_test.toarray(), y_test)"
      ],
      "metadata": {
        "id": "j5dlV_tmnHLc"
      },
      "execution_count": null,
      "outputs": []
    },
    {
      "cell_type": "code",
      "source": [
        "class TextClassifier(nn.Module):\n",
        "    def __init__(self, input_dim, hidden_dim, output_dim):\n",
        "        super(TextClassifier, self).__init__()\n",
        "        self.fc1 = nn.Linear(input_dim, hidden_dim)\n",
        "        self.fc2 = nn.Linear(hidden_dim, output_dim)\n",
        "\n",
        "    def forward(self, x):\n",
        "        x = torch.relu(self.fc1(x))\n",
        "        x = self.fc2(x)\n",
        "        return torch.sigmoid(x)"
      ],
      "metadata": {
        "id": "LAPrE1gTnKX3"
      },
      "execution_count": null,
      "outputs": []
    },
    {
      "cell_type": "code",
      "source": [
        "input_dim = X.shape[1]\n",
        "num_classes = 6\n",
        "hidden_dim = 12\n",
        "output_dim = num_classes\n",
        "learning_rate = 0.03\n",
        "num_epochs = 20\n",
        "batch_size = 6"
      ],
      "metadata": {
        "id": "D8e21dqgnOf6"
      },
      "execution_count": null,
      "outputs": []
    },
    {
      "cell_type": "code",
      "source": [
        "model = TextClassifier(input_dim, hidden_dim, output_dim)\n",
        "criterion = nn.CrossEntropyLoss()\n",
        "optimizer = optim.Adam(model.parameters(), lr=learning_rate)"
      ],
      "metadata": {
        "id": "4Yd9HUlknVO7"
      },
      "execution_count": null,
      "outputs": []
    },
    {
      "cell_type": "code",
      "source": [
        "train_loader = DataLoader(train_dataset, batch_size=batch_size, shuffle=True)\n",
        "test_loader = DataLoader(test_dataset, batch_size=batch_size, shuffle=False)"
      ],
      "metadata": {
        "id": "ZBojyM0ZnYCD"
      },
      "execution_count": null,
      "outputs": []
    },
    {
      "cell_type": "code",
      "source": [
        "for epoch in range(num_epochs):\n",
        "  model.train()\n",
        "  total_loss = 0\n",
        "\n",
        "  for inputs, labels in train_loader:\n",
        "    optimizer.zero_grad()\n",
        "    outputs = model(inputs.float())\n",
        "    loss = criterion(outputs, labels.long())\n",
        "    loss.backward()\n",
        "    optimizer.step()\n",
        "\n",
        "    total_loss += loss.item()\n",
        "\n",
        "  print('epoch: {} loss: {:.4f}'.format(epoch+1, total_loss/len(train_loader)))"
      ],
      "metadata": {
        "id": "eEgYA9RH52Cq",
        "colab": {
          "base_uri": "https://localhost:8080/"
        },
        "outputId": "115b83b9-b888-4bb0-ec08-c334cf3cea44"
      },
      "execution_count": null,
      "outputs": [
        {
          "output_type": "stream",
          "name": "stdout",
          "text": [
            "epoch: 1 loss: 1.1211\n",
            "epoch: 2 loss: 1.0876\n",
            "epoch: 3 loss: 1.0823\n",
            "epoch: 4 loss: 1.0817\n",
            "epoch: 5 loss: 1.0805\n",
            "epoch: 6 loss: 1.0812\n",
            "epoch: 7 loss: 1.0787\n",
            "epoch: 8 loss: 1.0769\n",
            "epoch: 9 loss: 1.0747\n",
            "epoch: 10 loss: 1.0736\n",
            "epoch: 11 loss: 1.0713\n",
            "epoch: 12 loss: 1.0735\n",
            "epoch: 13 loss: 1.0741\n",
            "epoch: 14 loss: 1.0781\n",
            "epoch: 15 loss: 1.0724\n",
            "epoch: 16 loss: 1.0715\n",
            "epoch: 17 loss: 1.0711\n",
            "epoch: 18 loss: 1.0715\n",
            "epoch: 19 loss: 1.0697\n",
            "epoch: 20 loss: 1.0692\n"
          ]
        }
      ]
    },
    {
      "cell_type": "code",
      "source": [
        "model.eval()\n",
        "predicted_labels=[]\n",
        "acc = 0\n",
        "with torch.no_grad():\n",
        "    for inputs, labels in test_loader:\n",
        "        outputs = model(inputs.float())\n",
        "        _, predicted = torch.max(outputs.data, 1)\n",
        "        predicted_labels += predicted.tolist()\n",
        "for i in range(len(predicted_labels)):\n",
        "  if predicted_labels[i] == y_test[i]:\n",
        "      acc+=1\n",
        "\n",
        "print('Accuracy:', acc/len(predicted_labels))"
      ],
      "metadata": {
        "colab": {
          "base_uri": "https://localhost:8080/"
        },
        "id": "UhKLWCds1NlH",
        "outputId": "7e579f34-7dd4-49d9-a7dc-be836e89dba4"
      },
      "execution_count": null,
      "outputs": [
        {
          "output_type": "stream",
          "name": "stdout",
          "text": [
            "Accuracy: 0.9367396593673966\n"
          ]
        }
      ]
    },
    {
      "cell_type": "code",
      "source": [
        "new_text = 'Говядина блочная 2 сорт в наличии ООО \"АгроСоюз\" реализует блочную говядину 2 сорт (80/20) Свободный объем 8 тонн Самовывоз или доставка. Все подробности по телефону.'\n",
        "\n",
        "tokens = nltk.word_tokenize(new_text)\n",
        "\n",
        "\n",
        "new_features = vectorizer.transform([' '.join(tokens)]).toarray()\n",
        "\n",
        "\n",
        "new_tensor = torch.tensor(new_features).view(1, -1)\n",
        "\n",
        "\n",
        "with torch.no_grad():\n",
        "  output = model(new_tensor.float())\n",
        "  predicted_class_idx = torch.argmax(output).item()\n",
        "\n",
        "\n",
        "predicted_class = list(mtype_dict.keys())[predicted_class_idx]\n",
        "print(predicted_class)"
      ],
      "metadata": {
        "colab": {
          "base_uri": "https://localhost:8080/",
          "height": 253
        },
        "id": "LWx_zNf_UJkz",
        "outputId": "da8e6e0b-2a44-4f26-e837-389100a923f7"
      },
      "execution_count": null,
      "outputs": [
        {
          "output_type": "error",
          "ename": "NameError",
          "evalue": "ignored",
          "traceback": [
            "\u001b[0;31m---------------------------------------------------------------------------\u001b[0m",
            "\u001b[0;31mNameError\u001b[0m                                 Traceback (most recent call last)",
            "\u001b[0;32m<ipython-input-1-a2ebd39ec73d>\u001b[0m in \u001b[0;36m<cell line: 3>\u001b[0;34m()\u001b[0m\n\u001b[1;32m      1\u001b[0m \u001b[0mnew_text\u001b[0m \u001b[0;34m=\u001b[0m \u001b[0;34m'Говядина блочная 2 сорт в наличии ООО \"АгроСоюз\" реализует блочную говядину 2 сорт (80/20) Свободный объем 8 тонн Самовывоз или доставка. Все подробности по телефону.'\u001b[0m\u001b[0;34m\u001b[0m\u001b[0;34m\u001b[0m\u001b[0m\n\u001b[1;32m      2\u001b[0m \u001b[0;34m\u001b[0m\u001b[0m\n\u001b[0;32m----> 3\u001b[0;31m \u001b[0mtokens\u001b[0m \u001b[0;34m=\u001b[0m \u001b[0mnltk\u001b[0m\u001b[0;34m.\u001b[0m\u001b[0mword_tokenize\u001b[0m\u001b[0;34m(\u001b[0m\u001b[0mnew_text\u001b[0m\u001b[0;34m)\u001b[0m\u001b[0;34m\u001b[0m\u001b[0;34m\u001b[0m\u001b[0m\n\u001b[0m\u001b[1;32m      4\u001b[0m \u001b[0;34m\u001b[0m\u001b[0m\n\u001b[1;32m      5\u001b[0m \u001b[0;34m\u001b[0m\u001b[0m\n",
            "\u001b[0;31mNameError\u001b[0m: name 'nltk' is not defined"
          ]
        }
      ]
    },
    {
      "cell_type": "code",
      "source": [
        "new_text = 'Куриная разделка Продам кур и куриную разделку гост и халяль по хорошей цене .Тел'\n",
        "\n",
        "tokens = nltk.word_tokenize(new_text)\n",
        "\n",
        "\n",
        "new_features = vectorizer.transform([' '.join(tokens)]).toarray()\n",
        "\n",
        "\n",
        "new_tensor = torch.tensor(new_features).view(1, -1)\n",
        "\n",
        "\n",
        "with torch.no_grad():\n",
        "  output = model(new_tensor.float())\n",
        "  predicted_class_idx = torch.argmax(output).item()\n",
        "\n",
        "\n",
        "predicted_class = list(mtype_dict.keys())[predicted_class_idx]\n",
        "print(predicted_class)"
      ],
      "metadata": {
        "colab": {
          "base_uri": "https://localhost:8080/"
        },
        "id": "sLHqoDorUazj",
        "outputId": "d5fa20dc-c31d-424b-b146-a36d59e62e76"
      },
      "execution_count": null,
      "outputs": [
        {
          "output_type": "stream",
          "name": "stdout",
          "text": [
            "Кура\n"
          ]
        }
      ]
    },
    {
      "cell_type": "code",
      "source": [
        "new_text = 'Говяжью мукозу Продам говяжью мукозу в охл и замороженном виде. Есть объем.'\n",
        "\n",
        "tokens = nltk.word_tokenize(new_text)\n",
        "\n",
        "\n",
        "new_features = vectorizer.transform([' '.join(tokens)]).toarray()\n",
        "\n",
        "\n",
        "new_tensor = torch.tensor(new_features).view(1, -1)\n",
        "\n",
        "\n",
        "with torch.no_grad():\n",
        "  output = model(new_tensor.float())\n",
        "  predicted_class_idx = torch.argmax(output).item()\n",
        "\n",
        "\n",
        "predicted_class = list(mtype_dict.keys())[predicted_class_idx]\n",
        "print(predicted_class)"
      ],
      "metadata": {
        "colab": {
          "base_uri": "https://localhost:8080/"
        },
        "id": "l7GRh7BsUmlZ",
        "outputId": "53662776-67e9-47d4-de4e-85329c784118"
      },
      "execution_count": null,
      "outputs": [
        {
          "output_type": "stream",
          "name": "stdout",
          "text": [
            "Говядина\n"
          ]
        }
      ]
    }
  ]
}